{
 "cells": [
  {
   "cell_type": "code",
   "execution_count": 143,
   "metadata": {
    "collapsed": true
   },
   "outputs": [],
   "source": [
    "import sqlite3 \n",
    "import xlrd\n",
    "import geocoder\n",
    "import os\n",
    "import re\n",
    "import datetime\n",
    "\n",
    "from xlrd import xldate_as_tuple"
   ]
  },
  {
   "cell_type": "markdown",
   "metadata": {},
   "source": [
    "# 1. Build Database"
   ]
  },
  {
   "cell_type": "code",
   "execution_count": 144,
   "metadata": {
    "collapsed": true
   },
   "outputs": [],
   "source": [
    "con_db = sqlite3.connect('Data_Challenge.db')\n",
    "cur = con_db.cursor()"
   ]
  },
  {
   "cell_type": "markdown",
   "metadata": {},
   "source": [
    "# 2. Customer.xlsx handled individually since geocoding issue\n",
    "   "
   ]
  },
  {
   "cell_type": "markdown",
   "metadata": {},
   "source": [
    "#### throught the geocoder library we can easily access the service from so many geocoding API provider\n",
    "#### at this time I'm using the ArcGIS"
   ]
  },
  {
   "cell_type": "code",
   "execution_count": 145,
   "metadata": {
    "collapsed": true
   },
   "outputs": [],
   "source": [
    "def single_insert(file_name):\n",
    "    con_db = sqlite3.connect('Data_Challenge.db')\n",
    "    cur = con_db.cursor()\n",
    "    \n",
    "    data = xlrd.open_workbook(file_name)\n",
    "    table = data.sheets()[0]\n",
    "    \n",
    "    cur.execute('CREATE TABLE IF NOT EXISTS Customers(Customer_Name TEXT, Country TEXT, Region TEXT, Longtitude REAL, Latitude REAL, Customer_Number INTEGER)')\n",
    "    \n",
    "    for i in range(1, table.nrows):\n",
    "        Customer_Name = str(table.row_values(i)[0])\n",
    "        Country = str(table.row_values(i)[1])\n",
    "        Region = str(table.row_values(i)[2])\n",
    "        lnglat = geocoder.arcgis(Country + ',' + Region)\n",
    "        Longtitude = lnglat.lng\n",
    "        Latitude = lnglat.lat\n",
    "        Customer_Number = str(table.row_values(i)[3])\n",
    "        data_entry(Customer_Name, Country, Region, Longtitude, Latitude, Customer_Number)    "
   ]
  },
  {
   "cell_type": "code",
   "execution_count": 146,
   "metadata": {
    "collapsed": true
   },
   "outputs": [],
   "source": [
    "def data_entry(Customer_Name, Country, Region, Longtitude, Latitude, Customer_Number):\n",
    "    con_db = sqlite3.connect('Data_Challenge.db')\n",
    "    cur = con_db.cursor()\n",
    "    cur.execute(\"INSERT INTO Customers(Customer_Name, Country, Region, Longtitude, Latitude, Customer_Number) VALUES (?, ?, ?, ?, ?, ?)\",\n",
    "          (Customer_Name, Country, Region, Longtitude, Latitude, Customer_Number))\n",
    "    con_db.commit()\n",
    "    "
   ]
  },
  {
   "cell_type": "markdown",
   "metadata": {},
   "source": [
    "# 3. Batch Insertion for other sheets"
   ]
  },
  {
   "cell_type": "markdown",
   "metadata": {},
   "source": [
    "### 1) insertion framework"
   ]
  },
  {
   "cell_type": "code",
   "execution_count": 147,
   "metadata": {
    "collapsed": true
   },
   "outputs": [],
   "source": [
    "def batch_insert(file_name):\n",
    "    con_db = sqlite3.connect('Data_Challenge.db')\n",
    "    cur = con_db.cursor()\n",
    "\n",
    "    work_book = xlrd.open_workbook(file_name)\n",
    "    sheet = work_book.sheet_by_index(0)\n",
    "    start = sheet.row_values(0)[0]\n",
    "    \n",
    "    queries = build_2_query(file_name,sheet,start)\n",
    "    \n",
    "    # create table information\n",
    "    cur.execute(queries[0])\n",
    "    # insert sheet into the table\n",
    "    sheet_insertion(sheet,queries[1])\n"
   ]
  },
  {
   "cell_type": "markdown",
   "metadata": {},
   "source": [
    "### 2) build two queries: table_query for table creation, insert_query for sheet insertion."
   ]
  },
  {
   "cell_type": "code",
   "execution_count": 148,
   "metadata": {
    "collapsed": true
   },
   "outputs": [],
   "source": [
    "def build_2_query(file_name,sheet,start):\n",
    "    \n",
    "    work_book = xlrd.open_workbook(file_name)\n",
    "\n",
    "    table_query = 'CREATE TABLE IF NOT EXISTS ' + file_name[:-5] + '('\n",
    "    insert_query_1 = 'INSERT INTO ' + file_name[:-5] + '('\n",
    "    insert_query_2 = ' VALUES (?' \n",
    "\n",
    "    if start in Int_Cat:\n",
    "        table_query += start + ' INTEGER'\n",
    "        insert_query_1 += start\n",
    "    if start in Real_Cat:\n",
    "        table_query += start + ' REAL'\n",
    "        insert_query_1 += start\n",
    "    if start in Text_Cat:\n",
    "        table_query += start + ' TEXT'\n",
    "        insert_query_1 += start\n",
    "\n",
    "    for row in sheet.row_values(0)[1:]:\n",
    "        if row in Int_Cat:\n",
    "            table_query += ', ' + row + ' INTEGER'\n",
    "            insert_query_1 += ', ' + row \n",
    "            insert_query_2 += ', ?'\n",
    "        if row in Real_Cat:\n",
    "            table_query += ', ' + row + ' REAL'\n",
    "            insert_query_1 += ', ' + row \n",
    "            insert_query_2 += ', ?'\n",
    "        if row in Text_Cat:\n",
    "            table_query += ', ' + row + ' TEXT'\n",
    "            insert_query_1 += ', ' + row \n",
    "            insert_query_2 += ', ?'\n",
    "    table_query += ')'\n",
    "    insert_query = insert_query_1 + ')' + insert_query_2 + ')'\n",
    "    return table_query, insert_query"
   ]
  },
  {
   "cell_type": "markdown",
   "metadata": {},
   "source": [
    "### 3) sheet insertion function"
   ]
  },
  {
   "cell_type": "code",
   "execution_count": 149,
   "metadata": {
    "collapsed": true
   },
   "outputs": [],
   "source": [
    "def sheet_insertion(sheet,insert_query):\n",
    "    con_db = sqlite3.connect('Data_Challenge.db')\n",
    "    cur = con_db.cursor()\n",
    "    for i in range(1, sheet.nrows):\n",
    "        tup = []\n",
    "        for j in range(0, sheet.ncols):\n",
    "            if sheet.cell(i,j).ctype == 3:\n",
    "                tup.append(date_convert(sheet.cell(i,j).value))\n",
    "            else:\n",
    "                tup.append(sheet.cell(i,j).value)\n",
    "        tup = tuple(tup)\n",
    "        cur.execute(insert_query,tup)\n",
    "        con_db.commit()"
   ]
  },
  {
   "cell_type": "markdown",
   "metadata": {},
   "source": [
    "### 4) Date Conversion: from timestamp to date"
   ]
  },
  {
   "cell_type": "code",
   "execution_count": 150,
   "metadata": {
    "collapsed": true
   },
   "outputs": [],
   "source": [
    "def date_convert(int_date):\n",
    "    date = xldate_as_tuple(int_date,0)\n",
    "    value = datetime.datetime.date(datetime.datetime(*date))\n",
    "    return value"
   ]
  },
  {
   "cell_type": "markdown",
   "metadata": {},
   "source": [
    "# 4. Files filter for execution"
   ]
  },
  {
   "cell_type": "code",
   "execution_count": 151,
   "metadata": {},
   "outputs": [],
   "source": [
    "path = os.path.abspath('.') # absolute path\n",
    "\n",
    "# keep those files who ends up with'.xlsx'\n",
    "all_files = [f for f in os.listdir(path) if re.search(r'.xlsx$',f)]\n",
    "# get rid those of temporary files(eg.'~$Customer.xlsx')\n",
    "rest_files = [f for f in all_files if re.search(r'^[A-Z]',f) and f != 'Customers.xlsx']\n",
    "\n",
    "# filter for different datatype\n",
    "\n",
    "Int_Cat = ['Year','Month','Account','Product_Code',\n",
    "           'Account','Invoice_Number','Year','Month','Quantity',\n",
    "           'Product_Category_Code']\n",
    "Real_Cat = ['Budget','Invoice_Amount','Standard_Price','Variable_Cost','Gross_Margin']\n",
    "Text_Cat = ['Invoice_Date','Product','Product_Category']"
   ]
  },
  {
   "cell_type": "markdown",
   "metadata": {},
   "source": [
    "# 5. Execution "
   ]
  },
  {
   "cell_type": "code",
   "execution_count": 156,
   "metadata": {},
   "outputs": [],
   "source": [
    "# 'Customers.xlsx' execution\n",
    "single_insert('Customers.xlsx')\n",
    "\n",
    "# 'Products.xlsx', 'Budgets.xlsx', 'Sales.xlsx' execution\n",
    "for file in rest_files:\n",
    "    batch_insert(file)\n",
    "\n",
    "# database disconnection   \n",
    "cur.close()\n",
    "con_db.close()"
   ]
  }
 ],
 "metadata": {
  "kernelspec": {
   "display_name": "Python 3",
   "language": "python",
   "name": "python3"
  },
  "language_info": {
   "codemirror_mode": {
    "name": "ipython",
    "version": 3
   },
   "file_extension": ".py",
   "mimetype": "text/x-python",
   "name": "python",
   "nbconvert_exporter": "python",
   "pygments_lexer": "ipython3",
   "version": "3.6.1"
  }
 },
 "nbformat": 4,
 "nbformat_minor": 2
}
